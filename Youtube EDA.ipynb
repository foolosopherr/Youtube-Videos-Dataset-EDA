{
 "cells": [
  {
   "cell_type": "code",
   "execution_count": 2,
   "id": "1c9c6f61-e035-4f2a-8133-84773ed44119",
   "metadata": {},
   "outputs": [],
   "source": [
    "import pandas as pd\n",
    "import numpy as np\n",
    "import tqdm.notebook as tqdm\n",
    "import plotly.express as px\n",
    "import re\n",
    "import streamlit as st"
   ]
  },
  {
   "cell_type": "code",
   "execution_count": 3,
   "id": "093c17cd-0a54-4366-ade2-c5dfc93415bc",
   "metadata": {},
   "outputs": [],
   "source": [
    "from matplotlib.image import thumbnail\n",
    "\n",
    "\n",
    "ambcass = pd.read_csv('data/Aggregated_Metrics_By_Country_And_Subscriber_Status.csv')\n",
    "ambv = pd.read_csv('data/Aggregated_Metrics_By_Video.csv').iloc[1:]\n",
    "acv = pd.read_csv('data/All_Comments_Final.csv')\n",
    "vpot = pd.read_csv('data/Video_Performance_Over_Time.csv')\n",
    "\n",
    "vpot['Date'] = pd.to_datetime(vpot['Date'])\n",
    "df = pd.merge(vpot, vpot.groupby('Video Title')['Date'].agg('min'), left_on='Video Title', right_index=True, how='left')\n",
    "df = df.rename(columns={'Date_x': 'Date', 'Date_y':'Start Date'})\n",
    "df['Days from start'] = df['Date'] - df['Start Date']\n",
    "df['Days from start'] = df['Days from start'].dt.days\n",
    "\n",
    "ambv.columns = list(map(lambda x:re.sub(r'[^a-zA-Z0-9\\(\\)\\%\\- ]', '', x), ambv.columns))\n",
    "ambv = ambv.astype({'Video publish time':'datetime64[ns]',\n",
    "                   'Average view duration':'datetime64[ns]'})\n",
    "ambv['Average view duration'] = ambv['Average view duration'].dt.minute * 60 + ambv['Average view duration'].dt.second\n",
    "thumbnail_links = ambcass[['External Video ID', 'Thumbnail link']].drop_duplicates().reset_index(drop=True)\n",
    "ambv = pd.merge(ambv, thumbnail_links, left_on='Video', right_on='External Video ID', how='left').drop('External Video ID', axis=1)\n"
   ]
  },
  {
   "cell_type": "code",
   "execution_count": 4,
   "id": "74fff96d",
   "metadata": {},
   "outputs": [],
   "source": [
    "titles = ambcass['Video Title'].unique()[::40]"
   ]
  },
  {
   "cell_type": "code",
   "execution_count": 5,
   "id": "9af5023b",
   "metadata": {},
   "outputs": [
    {
     "data": {
      "text/plain": [
       "array(['🌶 Hot Topics in Tech: Data Science Explained #SHORTS',\n",
       "       \"The Secret Data Scientists Don't Want You to Know\",\n",
       "       'Reviewing Your Data Science Projects - Episode 19 (One Big Improvement)',\n",
       "       'I Eat a Papaya Live on Stream (Plus Q&A for 150K Subs!)',\n",
       "       'Fast Cars to Faster Data (Alex Castrounis) - KNN EP. 12',\n",
       "       'Beginner Kaggle Data Science Project Walk-Through (Titanic)'],\n",
       "      dtype=object)"
      ]
     },
     "execution_count": 5,
     "metadata": {},
     "output_type": "execute_result"
    }
   ],
   "source": [
    "titles"
   ]
  },
  {
   "cell_type": "code",
   "execution_count": 10,
   "id": "bddb68cb",
   "metadata": {},
   "outputs": [
    {
     "data": {
      "text/plain": [
       "Country Code\n",
       "US    3352.416667\n",
       "IN    3345.166667\n",
       "GB     767.000000\n",
       "DE     610.583333\n",
       "CA     588.250000\n",
       "         ...     \n",
       "TL       1.000000\n",
       "ST       1.000000\n",
       "BI       0.750000\n",
       "MF       0.000000\n",
       "GL       0.000000\n",
       "Name: Views, Length: 204, dtype: float64"
      ]
     },
     "execution_count": 10,
     "metadata": {},
     "output_type": "execute_result"
    }
   ],
   "source": [
    "kek = ambcass[ambcass['Video Title'].isin(titles)].groupby('Country Code')['Views'].mean()\n",
    "kek.sort_values(ascending=False)"
   ]
  },
  {
   "cell_type": "code",
   "execution_count": null,
   "id": "348e0fef",
   "metadata": {},
   "outputs": [],
   "source": []
  }
 ],
 "metadata": {
  "kernelspec": {
   "display_name": "Python 3.8.13 ('myenv')",
   "language": "python",
   "name": "python3"
  },
  "language_info": {
   "codemirror_mode": {
    "name": "ipython",
    "version": 3
   },
   "file_extension": ".py",
   "mimetype": "text/x-python",
   "name": "python",
   "nbconvert_exporter": "python",
   "pygments_lexer": "ipython3",
   "version": "3.8.13"
  },
  "vscode": {
   "interpreter": {
    "hash": "857970f990130bbcaee778cf1846f7875676d945310dca1379fe4b5ef3d258a5"
   }
  },
  "widgets": {
   "application/vnd.jupyter.widget-state+json": {
    "state": {},
    "version_major": 2,
    "version_minor": 0
   }
  }
 },
 "nbformat": 4,
 "nbformat_minor": 5
}
